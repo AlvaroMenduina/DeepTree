{
 "cells": [
  {
   "cell_type": "markdown",
   "metadata": {},
   "source": [
    "# Demonstrate that timing of cell birth throughout the movie has no influence on the intermitotic time of proliferating cells:\n",
    "\n",
    "+ Account for all movies in the MDCK dataset\n",
    "+ Calculate for cells in Gen #1-6\n",
    "+ Only include cells with cell cycle duration of <7.0, 42.0>\n"
   ]
  },
  {
   "cell_type": "code",
   "execution_count": 1,
   "metadata": {},
   "outputs": [],
   "source": [
    "import h5py\n",
    "import math\n",
    "import scipy as sp\n",
    "import numpy as np\n",
    "import matplotlib.pyplot as plt\n",
    "\n",
    "from Server_Movies_Paths import Get_MDCK_Movies_Paths_Temporary\n",
    "from Find_Family_Members import Find_Family\n",
    "from tqdm import tqdm\n",
    "from scipy import stats\n"
   ]
  },
  {
   "cell_type": "markdown",
   "metadata": {},
   "source": [
    "### Process the movies & extract cell cycle duration information:\n"
   ]
  },
  {
   "cell_type": "code",
   "execution_count": 2,
   "metadata": {},
   "outputs": [
    {
     "name": "stderr",
     "output_type": "stream",
     "text": [
      "100%|██████████| 44/44 [00:57<00:00,  1.31s/it]\n"
     ]
    }
   ],
   "source": [
    "movies = Get_MDCK_Movies_Paths_Temporary()\n",
    "cct, cbt = [], []\n",
    "\n",
    "for movie in tqdm(movies):\n",
    "    hdf5_file = movie + \"HDF/segmented.hdf5\"\n",
    "    pos, date = movie.split(\"/\")[-2], movie.split(\"/\")[-3]\n",
    "    \n",
    "    with h5py.File(hdf5_file, 'r') as f:\n",
    "        lbepr_1 = list(f['tracks']['obj_type_1']['LBEPR'])\n",
    "        lbepr_2 = list(f['tracks']['obj_type_1']['Ch_Ch_Gen_CCT'])\n",
    "        \n",
    "        for cell, progeny in zip(lbepr_1, lbepr_2):\n",
    "            if cell[4] != 0 and progeny[0] != 0 and progeny[1] != 0:\n",
    "                if progeny[2] != 0 and progeny[2] < 7: \n",
    "                    if 7.0 <= progeny[3] <= 42.0:\n",
    "                        cct.append(progeny[3])\n",
    "                        cbt.append(cell[1])\n"
   ]
  },
  {
   "cell_type": "markdown",
   "metadata": {},
   "source": [
    "### Change to hours when plotting:"
   ]
  },
  {
   "cell_type": "code",
   "execution_count": 3,
   "metadata": {},
   "outputs": [
    {
     "data": {
      "image/png": "[encoded data removed]",
      "text/plain": [
       "<Figure size 1440x720 with 2 Axes>"
      ]
     },
     "metadata": {
      "needs_background": "light"
     },
     "output_type": "display_data"
    }
   ],
   "source": [
    "_ = plt.figure(figsize=(20, 10))\n",
    "plt.hist2d(x=cct, y=[item * 4 / 60 for item in cbt], bins=(35, 8), range=((7, 42), (0, 80)), cmap=\"binary\")\n",
    "plt.title(f\"Influence of Cell Birth Time on Cell Cycle Time in {len(cct)} cells living between <7-42> hours\", fontname=\"Arial\", fontsize=22)\n",
    "plt.xlabel(\"Cell Cycle Time [hours]\")\n",
    "plt.ylabel(\"Cell Birth Time [hour]\")\n",
    "plt.colorbar()\n",
    "plt.show()\n"
   ]
  },
  {
   "cell_type": "markdown",
   "metadata": {},
   "source": [
    "### Calculate mean / median per histogram row to display in scatter plot:"
   ]
  },
  {
   "cell_type": "code",
   "execution_count": 4,
   "metadata": {},
   "outputs": [
    {
     "ename": "NameError",
     "evalue": "name 'cbt_hours' is not defined",
     "output_type": "error",
     "traceback": [
      "\u001b[0;31m---------------------------------------------------------------------------\u001b[0m",
      "\u001b[0;31mNameError\u001b[0m                                 Traceback (most recent call last)",
      "\u001b[0;32m<ipython-input-4-db4862812569>\u001b[0m in \u001b[0;36m<module>\u001b[0;34m\u001b[0m\n\u001b[1;32m      3\u001b[0m \u001b[0;34m\u001b[0m\u001b[0m\n\u001b[1;32m      4\u001b[0m \u001b[0;32mfor\u001b[0m \u001b[0mi\u001b[0m \u001b[0;32min\u001b[0m \u001b[0mrange\u001b[0m\u001b[0;34m(\u001b[0m\u001b[0;36m11\u001b[0m\u001b[0;34m)\u001b[0m\u001b[0;34m:\u001b[0m\u001b[0;34m\u001b[0m\u001b[0m\n\u001b[0;32m----> 5\u001b[0;31m     \u001b[0mcbt_ranged\u001b[0m \u001b[0;34m=\u001b[0m \u001b[0;34m[\u001b[0m\u001b[0mitem_cct\u001b[0m \u001b[0;32mfor\u001b[0m \u001b[0mitem_cbt\u001b[0m\u001b[0;34m,\u001b[0m \u001b[0mitem_cct\u001b[0m \u001b[0;32min\u001b[0m \u001b[0mzip\u001b[0m\u001b[0;34m(\u001b[0m\u001b[0mcbt_hours\u001b[0m\u001b[0;34m,\u001b[0m \u001b[0mcct\u001b[0m\u001b[0;34m)\u001b[0m \u001b[0;32mif\u001b[0m \u001b[0mlower\u001b[0m \u001b[0;34m<=\u001b[0m \u001b[0mitem_cbt\u001b[0m \u001b[0;34m<\u001b[0m \u001b[0mupper\u001b[0m\u001b[0;34m]\u001b[0m\u001b[0;34m\u001b[0m\u001b[0m\n\u001b[0m\u001b[1;32m      6\u001b[0m     \u001b[0mmean_list\u001b[0m\u001b[0;34m.\u001b[0m\u001b[0mappend\u001b[0m\u001b[0;34m(\u001b[0m\u001b[0mnp\u001b[0m\u001b[0;34m.\u001b[0m\u001b[0mmean\u001b[0m\u001b[0;34m(\u001b[0m\u001b[0mcbt_ranged\u001b[0m\u001b[0;34m)\u001b[0m\u001b[0;34m)\u001b[0m\u001b[0;34m\u001b[0m\u001b[0m\n\u001b[1;32m      7\u001b[0m     \u001b[0mstd_list\u001b[0m\u001b[0;34m.\u001b[0m\u001b[0mappend\u001b[0m\u001b[0;34m(\u001b[0m\u001b[0mnp\u001b[0m\u001b[0;34m.\u001b[0m\u001b[0mstd\u001b[0m\u001b[0;34m(\u001b[0m\u001b[0mcbt_ranged\u001b[0m\u001b[0;34m)\u001b[0m\u001b[0;34m)\u001b[0m\u001b[0;34m\u001b[0m\u001b[0m\n",
      "\u001b[0;31mNameError\u001b[0m: name 'cbt_hours' is not defined"
     ]
    }
   ],
   "source": [
    "lower, upper = 0, 10\n",
    "mean_list, median_list, std_list, sem_list = [], [], [], []\n",
    "\n",
    "for i in range(11): \n",
    "    cbt_ranged = [item_cct for item_cbt, item_cct in zip(cbt_hours, cct) if lower <= item_cbt < upper]\n",
    "    mean_list.append(np.mean(cbt_ranged))\n",
    "    std_list.append(np.std(cbt_ranged))\n",
    "    sem_list.append(np.std(cbt_ranged)/np.sqrt(len(cbt_ranged)))\n",
    "    median_list.append(np.median(cbt_ranged))\n",
    "    lower += 10 \n",
    "    upper += 10 \n"
   ]
  },
  {
   "cell_type": "code",
   "execution_count": null,
   "metadata": {},
   "outputs": [],
   "source": [
    "_ = plt.figure(figsize=(20, 20))\n",
    "plt.scatter(x=[item * 4 / 60 for item in cbt], y=cct, s=1, color=\"grey\", alpha=1.0)\n",
    "plt.errorbar(x=range(5, 115, 10), y=mean_list, yerr=sem_list, color=\"black\", linewidth=5.0, linestyle=\"solid\", capsize=5, ecolor=\"black\", elinewidth=2.5, label=\"Mean\")\n",
    "plt.title(f\"Influence of Cell Birth Time on Cell Cycle Time in {len(cct)} cells living between <7-42> hours\", fontname=\"Arial\", fontsize=22)\n",
    "plt.ylabel(\"Cell Cycle Time [hours]\", fontname=\"Arial\", fontsize=18)\n",
    "plt.xlabel(\"Cell Birth Time [hours]\", fontname=\"Arial\", fontsize=18)\n",
    "plt.xticks(fontname=\"Arial\", fontsize=12)\n",
    "plt.yticks(fontname=\"Arial\", fontsize=12)\n",
    "plt.show()\n"
   ]
  },
  {
   "cell_type": "markdown",
   "metadata": {},
   "source": [
    "### Done!"
   ]
  }
 ],
 "metadata": {
  "kernelspec": {
   "display_name": "Python 3",
   "language": "python",
   "name": "python3"
  },
  "language_info": {
   "codemirror_mode": {
    "name": "ipython",
    "version": 3
   },
   "file_extension": ".py",
   "mimetype": "text/x-python",
   "name": "python",
   "nbconvert_exporter": "python",
   "pygments_lexer": "ipython3",
   "version": "3.7.0"
  }
 },
 "nbformat": 4,
 "nbformat_minor": 2
}
